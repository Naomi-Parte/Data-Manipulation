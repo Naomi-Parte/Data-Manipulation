{
 "cells": [
  {
   "cell_type": "code",
   "execution_count": 122,
   "metadata": {},
   "outputs": [],
   "source": [
    "import pandas as pd\n",
    "from sklearn.model_selection import train_test_split\n",
    "from sklearn.impute import SimpleImputer\n",
    "from sklearn.preprocessing import StandardScaler, OneHotEncoder\n",
    "from sklearn.compose import ColumnTransformer\n",
    "from sklearn.pipeline import Pipeline\n",
    "from sklearn.decomposition import PCA\n",
    "from sklearn.feature_selection import RFE\n",
    "from sklearn.linear_model import LinearRegression\n",
    "from sklearn.preprocessing import MinMaxScaler"
   ]
  },
  {
   "cell_type": "code",
   "execution_count": 123,
   "metadata": {},
   "outputs": [],
   "source": [
    "# loading data\n",
    "df = pd.read_csv('A2_Data/House_Price.csv')\n",
    "X = df.drop('SalePrice', axis=1)\n",
    "y = df['SalePrice']"
   ]
  },
  {
   "cell_type": "markdown",
   "metadata": {},
   "source": [
    "# Part 2.2.1: Preprocessing"
   ]
  },
  {
   "cell_type": "code",
   "execution_count": 124,
   "metadata": {},
   "outputs": [],
   "source": [
    "# split the data into training and test sets (70-30 split with seed of 309)\n",
    "X_train, X_test, y_train, y_test = train_test_split(X, y, test_size=0.3, random_state=309)\n",
    "\n",
    "# split numeric and categorical\n",
    "numeric_features = X.select_dtypes(include=['int64', 'float64']).columns\n",
    "categorical_features = X.select_dtypes(include=['object']).columns\n",
    "\n",
    "# DATA PREPROCESSING -------------\n",
    "# Handle missing values and normalise\n",
    "numeric_transformer = Pipeline(steps=[\n",
    "    ('imputer', SimpleImputer(strategy='median')),\n",
    "    ('scaler', MinMaxScaler())\n",
    "])\n",
    "\n",
    "categorical_transformer = Pipeline(steps=[\n",
    "    ('imputer', SimpleImputer(strategy='constant', fill_value='missing')),\n",
    "    ('onehot', OneHotEncoder(handle_unknown='ignore'))\n",
    "])\n",
    "\n",
    "# combine\n",
    "preprocessor = ColumnTransformer(\n",
    "    transformers=[\n",
    "        ('num', numeric_transformer, numeric_features),\n",
    "        ('cat', categorical_transformer, categorical_features)\n",
    "    ])\n",
    "\n",
    "X_train_processed = preprocessor.fit_transform(X_train)\n",
    "X_test_processed = preprocessor.transform(X_test)\n",
    "\n",
    "# scaling the y as well\n",
    "scaler_y = MinMaxScaler()\n",
    "y_train_processed = scaler_y.fit_transform(y_train.values.reshape(-1, 1))\n",
    "y_test_processed = scaler_y.transform(y_test.values.reshape(-1, 1))"
   ]
  },
  {
   "cell_type": "markdown",
   "metadata": {},
   "source": [
    "### Saving Preprocessed Data\n"
   ]
  },
  {
   "cell_type": "code",
   "execution_count": 125,
   "metadata": {},
   "outputs": [
    {
     "name": "stdout",
     "output_type": "stream",
     "text": [
      "Preprocessing completed. (Part 2.2.1)\n"
     ]
    }
   ],
   "source": [
    "\n",
    "# get feature names (after preprocess)\n",
    "numeric_feature_names = numeric_features.tolist()\n",
    "categorical_feature_names = preprocessor.named_transformers_['cat'].named_steps['onehot'].get_feature_names_out(categorical_features).tolist()\n",
    "all_feature_names = numeric_feature_names + categorical_feature_names\n",
    "\n",
    "# converting to dataframe\n",
    "X_train_processed_df = pd.DataFrame(X_train_processed.toarray() if hasattr(X_train_processed, 'toarray') else X_train_processed, \n",
    "                                    columns=all_feature_names, \n",
    "                                    index=X_train.index)\n",
    "X_test_processed_df = pd.DataFrame(X_test_processed.toarray() if hasattr(X_test_processed, 'toarray') else X_test_processed, \n",
    "                                   columns=all_feature_names, \n",
    "                                   index=X_test.index)\n",
    "\n",
    "# adding the target variable back\n",
    "train_processed = X_train_processed_df.join(y_train)\n",
    "test_processed = X_test_processed_df.join(y_test)\n",
    "\n",
    "# saving processed datasets\n",
    "train_processed.to_csv('train_processed.csv', index=False)\n",
    "test_processed.to_csv('test_processed.csv', index=False)\n",
    "\n",
    "print(\"Preprocessing completed. (Part 2.2.1)\")\n"
   ]
  },
  {
   "cell_type": "markdown",
   "metadata": {},
   "source": [
    "# Part 2.2.2: Dimentionality Reduction "
   ]
  },
  {
   "cell_type": "markdown",
   "metadata": {},
   "source": [
    "### PCA"
   ]
  },
  {
   "cell_type": "code",
   "execution_count": 126,
   "metadata": {},
   "outputs": [],
   "source": [
    "# converting processed data to dense matrix before PCA as PCA doesn't like sparse matrix\n",
    "X_train_dense = X_train_processed.toarray()\n",
    "X_test_dense = X_test_processed.toarray()\n",
    "\n",
    "# PCA ---------------------------------------\n",
    "pca = PCA(n_components=0.95)  # Adjust n_components as needed\n",
    "X_train_pca = pca.fit_transform(X_train_dense)\n",
    "X_test_pca = pca.transform(X_test_dense)"
   ]
  },
  {
   "cell_type": "markdown",
   "metadata": {},
   "source": [
    "### RFE"
   ]
  },
  {
   "cell_type": "code",
   "execution_count": 127,
   "metadata": {},
   "outputs": [],
   "source": [
    "linear_model = LinearRegression()\n",
    "\n",
    "# RFE with 5 features ----------------------\n",
    "rfe = RFE(estimator=linear_model, n_features_to_select=5)\n",
    "X_train_rfe = rfe.fit_transform(X_train_pca, y_train_processed)\n",
    "X_test_rfe = rfe.transform(X_test_pca)"
   ]
  },
  {
   "cell_type": "markdown",
   "metadata": {},
   "source": [
    "### Saving to File"
   ]
  },
  {
   "cell_type": "code",
   "execution_count": 128,
   "metadata": {},
   "outputs": [
    {
     "name": "stdout",
     "output_type": "stream",
     "text": [
      "Dimensionality Reduction and Feature Selection completed. (Part 2.2.2)\n"
     ]
    }
   ],
   "source": [
    "\n",
    "# getting the selected feature names after RFE\n",
    "selected_feature_indices = rfe.get_support(indices=True)\n",
    "selected_feature_names = [f\"PC{i+1}\" for i in selected_feature_indices]\n",
    "\n",
    "# convert to dataframe \n",
    "X_train_final_df = pd.DataFrame(X_train_rfe, columns=selected_feature_names, index=X_train.index)\n",
    "X_test_final_df = pd.DataFrame(X_test_rfe, columns=selected_feature_names, index=X_test.index)\n",
    "\n",
    "train_final = X_train_final_df.join(y_train)\n",
    "test_final = X_test_final_df.join(y_test)\n",
    "\n",
    "# saving\n",
    "train_final.to_csv('train_final.csv', index=False)\n",
    "test_final.to_csv('test_final.csv', index=False)\n",
    "\n",
    "print(\"Dimensionality Reduction and Feature Selection completed. (Part 2.2.2)\")"
   ]
  },
  {
   "cell_type": "markdown",
   "metadata": {},
   "source": [
    "# Part 2.2.3: Data Mining\n"
   ]
  },
  {
   "cell_type": "code",
   "execution_count": 129,
   "metadata": {},
   "outputs": [],
   "source": [
    "# new imports\n",
    "from sklearn.linear_model import Ridge\n",
    "from sklearn.metrics import mean_squared_error\n",
    "from sklearn.ensemble import RandomForestRegressor\n",
    "\n",
    "# define the models\n",
    "lin_reg = LinearRegression()\n",
    "ridge_reg = Ridge(alpha=0.5)\n",
    "rf_reg = RandomForestRegressor(random_state=309)"
   ]
  },
  {
   "cell_type": "markdown",
   "metadata": {},
   "source": [
    "### Training models on PCA"
   ]
  },
  {
   "cell_type": "code",
   "execution_count": 130,
   "metadata": {},
   "outputs": [
    {
     "name": "stdout",
     "output_type": "stream",
     "text": [
      "Linear Regression on PCA - Train MSE: 0.001790, Test MSE: 0.001830\n",
      "Ridge Regression on PCA - Train MSE: 0.001790, Test MSE: 0.001825\n",
      "Random Forest Regression on PCA - Train MSE: 0.000494, Test MSE: 0.003086\n"
     ]
    }
   ],
   "source": [
    "# linear regression\n",
    "lin_reg.fit(X_train_pca, y_train_processed)\n",
    "y_train_pred_pca_lin = lin_reg.predict(X_train_pca)\n",
    "y_test_pred_pca_lin = lin_reg.predict(X_test_pca)\n",
    "mse_train_pca_lin = mean_squared_error(y_train_processed, y_train_pred_pca_lin)\n",
    "mse_test_pca_lin = mean_squared_error(y_test_processed, y_test_pred_pca_lin)\n",
    "\n",
    "\n",
    "# ridge regression\n",
    "ridge_reg.fit(X_train_pca, y_train_processed)\n",
    "y_train_pred_pca_ridge = ridge_reg.predict(X_train_pca)\n",
    "y_test_pred_pca_ridge = ridge_reg.predict(X_test_pca)\n",
    "mse_train_pca_ridge = mean_squared_error(y_train_processed, y_train_pred_pca_ridge)\n",
    "mse_test_pca_ridge = mean_squared_error(y_test_processed, y_test_pred_pca_ridge)\n",
    "\n",
    "# random forest regression\n",
    "rf_reg.fit(X_train_pca, y_train_processed.ravel())\n",
    "y_train_pred_pca_rf = rf_reg.predict(X_train_pca)\n",
    "y_test_pred_pca_rf = rf_reg.predict(X_test_pca)\n",
    "mse_train_pca_rf = mean_squared_error(y_train_processed, y_train_pred_pca_rf)\n",
    "mse_test_pca_rf = mean_squared_error(y_test_processed, y_test_pred_pca_rf)\n",
    "\n",
    "\n",
    "# results:\n",
    "print(f\"Linear Regression on PCA - Train MSE: {mse_train_pca_lin:.6f}, Test MSE: {mse_test_pca_lin:.6f}\")\n",
    "print(f\"Ridge Regression on PCA - Train MSE: {mse_train_pca_ridge:.6f}, Test MSE: {mse_test_pca_ridge:.6f}\")\n",
    "print(f\"Random Forest Regression on PCA - Train MSE: {mse_train_pca_rf:.6f}, Test MSE: {mse_test_pca_rf:.6f}\")"
   ]
  },
  {
   "cell_type": "markdown",
   "metadata": {},
   "source": [
    "### Training models on RFE"
   ]
  },
  {
   "cell_type": "code",
   "execution_count": 131,
   "metadata": {},
   "outputs": [
    {
     "name": "stdout",
     "output_type": "stream",
     "text": [
      "Linear Regression on RFE - Train MSE: 0.004304, Test MSE: 0.003931\n",
      "Ridge Regression on RFE - Train MSE: 0.004304, Test MSE: 0.003930\n",
      "Random Forest Regression on RFE - Train MSE: 0.000559, Test MSE: 0.003339\n"
     ]
    }
   ],
   "source": [
    "# linear regression\n",
    "lin_reg.fit(X_train_rfe, y_train_processed)\n",
    "y_train_pred_rfe_lin = lin_reg.predict(X_train_rfe)\n",
    "y_test_pred_rfe_lin = lin_reg.predict(X_test_rfe)\n",
    "mse_train_rfe_lin = mean_squared_error(y_train_processed, y_train_pred_rfe_lin)\n",
    "mse_test_rfe_lin = mean_squared_error(y_test_processed, y_test_pred_rfe_lin)\n",
    "\n",
    "# ridge regression\n",
    "ridge_reg.fit(X_train_rfe, y_train_processed)\n",
    "y_train_pred_rfe_ridge = ridge_reg.predict(X_train_rfe)\n",
    "y_test_pred_rfe_ridge = ridge_reg.predict(X_test_rfe)\n",
    "mse_train_rfe_ridge = mean_squared_error(y_train_processed, y_train_pred_rfe_ridge)\n",
    "mse_test_rfe_ridge = mean_squared_error(y_test_processed, y_test_pred_rfe_ridge)\n",
    "\n",
    "# random forest\n",
    "rf_reg.fit(X_train_rfe, y_train_processed.ravel())\n",
    "y_train_pred_rfe_rf = rf_reg.predict(X_train_rfe)\n",
    "y_test_pred_rfe_rf = rf_reg.predict(X_test_rfe)\n",
    "mse_train_rfe_rf = mean_squared_error(y_train_processed, y_train_pred_rfe_rf)\n",
    "mse_test_rfe_rf = mean_squared_error(y_test_processed, y_test_pred_rfe_rf)\n",
    "\n",
    "# show results:\n",
    "print(f\"Linear Regression on RFE - Train MSE: {mse_train_rfe_lin:.6f}, Test MSE: {mse_test_rfe_lin:.6f}\")\n",
    "print(f\"Ridge Regression on RFE - Train MSE: {mse_train_rfe_ridge:.6f}, Test MSE: {mse_test_rfe_ridge:.6f}\")\n",
    "print(f\"Random Forest Regression on RFE - Train MSE: {mse_train_rfe_rf:.6f}, Test MSE: {mse_test_rfe_rf:.6f}\")"
   ]
  },
  {
   "cell_type": "markdown",
   "metadata": {},
   "source": [
    "# Part 2.2.3: Further Analyses "
   ]
  },
  {
   "cell_type": "code",
   "execution_count": 132,
   "metadata": {},
   "outputs": [],
   "source": [
    "# import\n",
    "from sklearn.tree import DecisionTreeRegressor\n",
    "from sklearn.svm import SVR\n",
    "\n",
    "# define the 2 further models\n",
    "dt_reg = DecisionTreeRegressor(random_state=309)\n",
    "svr_reg = SVR()\n"
   ]
  },
  {
   "cell_type": "markdown",
   "metadata": {},
   "source": [
    "### Training models on PCA"
   ]
  },
  {
   "cell_type": "code",
   "execution_count": 133,
   "metadata": {},
   "outputs": [
    {
     "name": "stdout",
     "output_type": "stream",
     "text": [
      "Decision Tree Regression on PCA - Train MSE: 0.000000, Test MSE: 0.007691\n",
      "Support Vector Regression on PCA - Train MSE: 0.003762, Test MSE: 0.004433\n"
     ]
    }
   ],
   "source": [
    "# decision tree regression\n",
    "dt_reg.fit(X_train_pca, y_train_processed)\n",
    "y_train_pred_pca_dt = dt_reg.predict(X_train_pca)\n",
    "y_test_pred_pca_dt = dt_reg.predict(X_test_pca)\n",
    "mse_train_pca_dt = mean_squared_error(y_train_processed, y_train_pred_pca_dt)\n",
    "mse_test_pca_dt = mean_squared_error(y_test_processed, y_test_pred_pca_dt)\n",
    "\n",
    "# support vector regression\n",
    "svr_reg.fit(X_train_pca, y_train_processed.ravel())\n",
    "y_train_pred_pca_svr = svr_reg.predict(X_train_pca)\n",
    "y_test_pred_pca_svr = svr_reg.predict(X_test_pca)\n",
    "mse_train_pca_svr = mean_squared_error(y_train_processed, y_train_pred_pca_svr)\n",
    "mse_test_pca_svr = mean_squared_error(y_test_processed, y_test_pred_pca_svr)\n",
    "\n",
    "print(f\"Decision Tree Regression on PCA - Train MSE: {mse_train_pca_dt:.6f}, Test MSE: {mse_test_pca_dt:.6f}\")\n",
    "print(f\"Support Vector Regression on PCA - Train MSE: {mse_train_pca_svr:.6f}, Test MSE: {mse_test_pca_svr:.6f}\")"
   ]
  },
  {
   "cell_type": "markdown",
   "metadata": {},
   "source": [
    "### Training modelse on RFE"
   ]
  },
  {
   "cell_type": "code",
   "execution_count": 134,
   "metadata": {},
   "outputs": [
    {
     "name": "stdout",
     "output_type": "stream",
     "text": [
      "Decision Tree Regression on RFE - Train MSE: 0.000000, Test MSE: 0.005993\n",
      "Support Vector Regression on RFE - Train MSE: 0.003572, Test MSE: 0.003877\n"
     ]
    }
   ],
   "source": [
    "# decision tree regression\n",
    "dt_reg.fit(X_train_rfe, y_train_processed.ravel())\n",
    "y_train_pred_rfe_dt = dt_reg.predict(X_train_rfe)\n",
    "y_test_pred_rfe_dt = dt_reg.predict(X_test_rfe)\n",
    "mse_train_rfe_dt = mean_squared_error(y_train_processed, y_train_pred_rfe_dt)\n",
    "mse_test_rfe_dt = mean_squared_error(y_test_processed, y_test_pred_rfe_dt)\n",
    "\n",
    "# support vector regression\n",
    "svr_reg.fit(X_train_rfe, y_train_processed.ravel())\n",
    "y_train_pred_rfe_svr = svr_reg.predict(X_train_rfe)\n",
    "y_test_pred_rfe_svr = svr_reg.predict(X_test_rfe)\n",
    "mse_train_rfe_svr = mean_squared_error(y_train_processed, y_train_pred_rfe_svr)\n",
    "mse_test_rfe_svr = mean_squared_error(y_test_processed, y_test_pred_rfe_svr)\n",
    "\n",
    "print(f\"Decision Tree Regression on RFE - Train MSE: {mse_train_rfe_dt:.6f}, Test MSE: {mse_test_rfe_dt:.6f}\")\n",
    "print(f\"Support Vector Regression on RFE - Train MSE: {mse_train_rfe_svr:.6f}, Test MSE: {mse_test_rfe_svr:.6f}\")\n"
   ]
  }
 ],
 "metadata": {
  "kernelspec": {
   "display_name": "Python 3",
   "language": "python",
   "name": "python3"
  },
  "language_info": {
   "codemirror_mode": {
    "name": "ipython",
    "version": 3
   },
   "file_extension": ".py",
   "mimetype": "text/x-python",
   "name": "python",
   "nbconvert_exporter": "python",
   "pygments_lexer": "ipython3",
   "version": "3.11.9"
  }
 },
 "nbformat": 4,
 "nbformat_minor": 2
}
